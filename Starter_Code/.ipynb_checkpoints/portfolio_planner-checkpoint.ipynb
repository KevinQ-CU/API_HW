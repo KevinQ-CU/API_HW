{
 "cells": [
  {
   "cell_type": "code",
   "execution_count": 1,
   "metadata": {},
   "outputs": [],
   "source": [
    "import numpy as np\n",
    "import pandas as pd\n",
    "from datetime import datetime, timedelta\n",
    "import matplotlib.pyplot as plt\n",
    "%matplotlib inline"
   ]
  },
  {
   "cell_type": "code",
   "execution_count": 2,
   "metadata": {},
   "outputs": [],
   "source": [
    "np.random.seed(42)"
   ]
  },
  {
   "cell_type": "markdown",
   "metadata": {},
   "source": [
    "# Portfolio Planner\n",
    "\n",
    "In this activity, you will use the iexfinance api to grab historical data for a 60/40 portfolio using `SPY` to represent the stock portion and `AGG` to represent the bonds."
   ]
  },
  {
   "cell_type": "code",
   "execution_count": 3,
   "metadata": {},
   "outputs": [],
   "source": [
    "from iexfinance.stocks import get_historical_data\n",
    "import iexfinance as iex"
   ]
  },
  {
   "cell_type": "markdown",
   "metadata": {},
   "source": [
    "# Data Collection\n",
    "\n",
    "In this step, you will need to use the IEX api to fetch closing prices for the `SPY` and `AGG` tickers. Save the results as a pandas DataFrame"
   ]
  },
  {
   "cell_type": "code",
   "execution_count": 5,
   "metadata": {},
   "outputs": [
    {
     "data": {
      "text/html": [
       "<div>\n",
       "<style scoped>\n",
       "    .dataframe tbody tr th:only-of-type {\n",
       "        vertical-align: middle;\n",
       "    }\n",
       "\n",
       "    .dataframe tbody tr th {\n",
       "        vertical-align: top;\n",
       "    }\n",
       "\n",
       "    .dataframe thead tr th {\n",
       "        text-align: left;\n",
       "    }\n",
       "\n",
       "    .dataframe thead tr:last-of-type th {\n",
       "        text-align: right;\n",
       "    }\n",
       "</style>\n",
       "<table border=\"1\" class=\"dataframe\">\n",
       "  <thead>\n",
       "    <tr>\n",
       "      <th></th>\n",
       "      <th colspan=\"5\" halign=\"left\">SPY</th>\n",
       "      <th colspan=\"5\" halign=\"left\">AGG</th>\n",
       "    </tr>\n",
       "    <tr>\n",
       "      <th></th>\n",
       "      <th>open</th>\n",
       "      <th>high</th>\n",
       "      <th>low</th>\n",
       "      <th>close</th>\n",
       "      <th>volume</th>\n",
       "      <th>open</th>\n",
       "      <th>high</th>\n",
       "      <th>low</th>\n",
       "      <th>close</th>\n",
       "      <th>volume</th>\n",
       "    </tr>\n",
       "    <tr>\n",
       "      <th>date</th>\n",
       "      <th></th>\n",
       "      <th></th>\n",
       "      <th></th>\n",
       "      <th></th>\n",
       "      <th></th>\n",
       "      <th></th>\n",
       "      <th></th>\n",
       "      <th></th>\n",
       "      <th></th>\n",
       "      <th></th>\n",
       "    </tr>\n",
       "  </thead>\n",
       "  <tbody>\n",
       "    <tr>\n",
       "      <td>2019-01-28</td>\n",
       "      <td>263.39</td>\n",
       "      <td>263.83</td>\n",
       "      <td>261.79</td>\n",
       "      <td>263.76</td>\n",
       "      <td>85613655</td>\n",
       "      <td>106.62</td>\n",
       "      <td>106.75</td>\n",
       "      <td>106.58</td>\n",
       "      <td>106.62</td>\n",
       "      <td>7365747</td>\n",
       "    </tr>\n",
       "    <tr>\n",
       "      <td>2019-01-29</td>\n",
       "      <td>263.92</td>\n",
       "      <td>264.55</td>\n",
       "      <td>262.48</td>\n",
       "      <td>263.41</td>\n",
       "      <td>66136334</td>\n",
       "      <td>106.73</td>\n",
       "      <td>106.93</td>\n",
       "      <td>106.69</td>\n",
       "      <td>106.90</td>\n",
       "      <td>6158607</td>\n",
       "    </tr>\n",
       "    <tr>\n",
       "      <td>2019-01-30</td>\n",
       "      <td>265.10</td>\n",
       "      <td>268.52</td>\n",
       "      <td>264.25</td>\n",
       "      <td>267.58</td>\n",
       "      <td>92473671</td>\n",
       "      <td>106.79</td>\n",
       "      <td>107.15</td>\n",
       "      <td>106.79</td>\n",
       "      <td>107.14</td>\n",
       "      <td>6350434</td>\n",
       "    </tr>\n",
       "    <tr>\n",
       "      <td>2019-01-31</td>\n",
       "      <td>267.51</td>\n",
       "      <td>270.47</td>\n",
       "      <td>267.27</td>\n",
       "      <td>269.93</td>\n",
       "      <td>104012073</td>\n",
       "      <td>107.30</td>\n",
       "      <td>107.53</td>\n",
       "      <td>107.29</td>\n",
       "      <td>107.46</td>\n",
       "      <td>14766451</td>\n",
       "    </tr>\n",
       "    <tr>\n",
       "      <td>2019-02-01</td>\n",
       "      <td>270.15</td>\n",
       "      <td>271.20</td>\n",
       "      <td>269.18</td>\n",
       "      <td>270.06</td>\n",
       "      <td>85782524</td>\n",
       "      <td>107.09</td>\n",
       "      <td>107.15</td>\n",
       "      <td>106.88</td>\n",
       "      <td>106.97</td>\n",
       "      <td>7227896</td>\n",
       "    </tr>\n",
       "  </tbody>\n",
       "</table>\n",
       "</div>"
      ],
      "text/plain": [
       "               SPY                                        AGG                  \\\n",
       "              open    high     low   close     volume    open    high     low   \n",
       "date                                                                            \n",
       "2019-01-28  263.39  263.83  261.79  263.76   85613655  106.62  106.75  106.58   \n",
       "2019-01-29  263.92  264.55  262.48  263.41   66136334  106.73  106.93  106.69   \n",
       "2019-01-30  265.10  268.52  264.25  267.58   92473671  106.79  107.15  106.79   \n",
       "2019-01-31  267.51  270.47  267.27  269.93  104012073  107.30  107.53  107.29   \n",
       "2019-02-01  270.15  271.20  269.18  270.06   85782524  107.09  107.15  106.88   \n",
       "\n",
       "                              \n",
       "             close    volume  \n",
       "date                          \n",
       "2019-01-28  106.62   7365747  \n",
       "2019-01-29  106.90   6158607  \n",
       "2019-01-30  107.14   6350434  \n",
       "2019-01-31  107.46  14766451  \n",
       "2019-02-01  106.97   7227896  "
      ]
     },
     "execution_count": 5,
     "metadata": {},
     "output_type": "execute_result"
    }
   ],
   "source": [
    "list_of_tickers = [\"SPY\", \"AGG\"]\n",
    "\n",
    "end_date = datetime.now()\n",
    "start_date = end_date + timedelta(-365)\n",
    "\n",
    "df = get_historical_data(list_of_tickers, start_date, end_date,  output_format='pandas')\n",
    "df.head()\n",
    "# YOUR CODE HERE"
   ]
  },
  {
   "cell_type": "code",
   "execution_count": 6,
   "metadata": {},
   "outputs": [],
   "source": [
    "df.to_pickle('my_df.picl')"
   ]
  },
  {
   "cell_type": "code",
   "execution_count": 20,
   "metadata": {},
   "outputs": [],
   "source": [
    "SPY_AGG_data = pd.read_pickle('my_df.picl')"
   ]
  },
  {
   "cell_type": "code",
   "execution_count": 57,
   "metadata": {},
   "outputs": [
    {
     "data": {
      "text/html": [
       "<div>\n",
       "<style scoped>\n",
       "    .dataframe tbody tr th:only-of-type {\n",
       "        vertical-align: middle;\n",
       "    }\n",
       "\n",
       "    .dataframe tbody tr th {\n",
       "        vertical-align: top;\n",
       "    }\n",
       "\n",
       "    .dataframe thead tr th {\n",
       "        text-align: left;\n",
       "    }\n",
       "\n",
       "    .dataframe thead tr:last-of-type th {\n",
       "        text-align: right;\n",
       "    }\n",
       "</style>\n",
       "<table border=\"1\" class=\"dataframe\">\n",
       "  <thead>\n",
       "    <tr>\n",
       "      <th></th>\n",
       "      <th>SPY</th>\n",
       "      <th>AGG</th>\n",
       "    </tr>\n",
       "    <tr>\n",
       "      <th></th>\n",
       "      <th>close</th>\n",
       "      <th>close</th>\n",
       "    </tr>\n",
       "    <tr>\n",
       "      <th>date</th>\n",
       "      <th></th>\n",
       "      <th></th>\n",
       "    </tr>\n",
       "  </thead>\n",
       "  <tbody>\n",
       "    <tr>\n",
       "      <td>2019-01-28</td>\n",
       "      <td>263.76</td>\n",
       "      <td>106.62</td>\n",
       "    </tr>\n",
       "    <tr>\n",
       "      <td>2019-01-29</td>\n",
       "      <td>263.41</td>\n",
       "      <td>106.90</td>\n",
       "    </tr>\n",
       "    <tr>\n",
       "      <td>2019-01-30</td>\n",
       "      <td>267.58</td>\n",
       "      <td>107.14</td>\n",
       "    </tr>\n",
       "    <tr>\n",
       "      <td>2019-01-31</td>\n",
       "      <td>269.93</td>\n",
       "      <td>107.46</td>\n",
       "    </tr>\n",
       "    <tr>\n",
       "      <td>2019-02-01</td>\n",
       "      <td>270.06</td>\n",
       "      <td>106.97</td>\n",
       "    </tr>\n",
       "  </tbody>\n",
       "</table>\n",
       "</div>"
      ],
      "text/plain": [
       "               SPY     AGG\n",
       "             close   close\n",
       "date                      \n",
       "2019-01-28  263.76  106.62\n",
       "2019-01-29  263.41  106.90\n",
       "2019-01-30  267.58  107.14\n",
       "2019-01-31  269.93  107.46\n",
       "2019-02-01  270.06  106.97"
      ]
     },
     "execution_count": 57,
     "metadata": {},
     "output_type": "execute_result"
    }
   ],
   "source": [
    "SPY_AGG_data.drop(columns=['open', 'high', 'low', 'volume'], level=1, inplace=True)\n",
    "SPY_AGG_data.head()"
   ]
  },
  {
   "cell_type": "markdown",
   "metadata": {},
   "source": [
    "# Monte Carlo Simulation\n",
    "\n",
    "In this step, you will run Monte Carlo Simulations for your portfolio to model portfolio performance at different retirement ages. \n",
    "\n",
    "Complete the following steps:\n",
    "1. Calculate the daily returns for the SPY and AGG closing prices.\n",
    "2. Calculate volatility for both the SPY and AGG closing prices.\n",
    "3. Find the last day's closing price for both stocks and save those as variables.\n",
    "4. Run a Monte Carlo Simulation of at least 500 iterations and generate at least 30 years of closing prices\n",
    "\n",
    "### HINTS:\n",
    "There are 252 trading days per year, so the number of records to generate for each Monte Carlo run will be 252 days * 30 years"
   ]
  },
  {
   "cell_type": "code",
   "execution_count": 90,
   "metadata": {},
   "outputs": [
    {
     "name": "stdout",
     "output_type": "stream",
     "text": [
      "0.0002625464144747105\n",
      "0.0009089900097315287\n"
     ]
    }
   ],
   "source": [
    "# Calculate the daily roi for the stocks\n",
    "daily_return = SPY_AGG_data.pct_change()\n",
    "\n",
    "average_daily_return_SPY = daily_return.mean()['SPY']['close']\n",
    "average_daily_return_AGG = daily_return.mean()['AGG']['close']\n",
    "print(average_daily_return_AGG)\n",
    "print(average_daily_return_SPY)\n",
    "# YOUR CODE HERE"
   ]
  },
  {
   "cell_type": "code",
   "execution_count": 63,
   "metadata": {},
   "outputs": [
    {
     "data": {
      "text/plain": [
       "0.002091170315427084"
      ]
     },
     "execution_count": 63,
     "metadata": {},
     "output_type": "execute_result"
    }
   ],
   "source": [
    "# Calculate volatility\n",
    "daily_std_SPY = daily_return.std()['SPY']['close']\n",
    "daily_std_AGG = daily_return.std()['AGG']['close']\n",
    "daily_std_AGG\n",
    "# YOUR CODE HERE"
   ]
  },
  {
   "cell_type": "code",
   "execution_count": 66,
   "metadata": {},
   "outputs": [],
   "source": [
    "# Save the last day's closing price\n",
    "close_price_SPY = SPY_AGG_data['SPY']['close'][-1]\n",
    "close_price_AGG = SPY_AGG_data['AGG']['close'][-1]\n"
   ]
  },
  {
   "cell_type": "code",
   "execution_count": 70,
   "metadata": {},
   "outputs": [],
   "source": [
    "# Setup the Monte Carlo Parameters\n",
    "number_simulations = 100\n",
    "number_records = 252 * 30\n",
    "monte_carlo = pd.DataFrame()\n",
    "simulated_price_df = pd.DataFrame()\n",
    "portfolio_cumulative_returns = pd.DataFrame()"
   ]
  },
  {
   "cell_type": "code",
   "execution_count": 71,
   "metadata": {},
   "outputs": [
    {
     "data": {
      "text/html": [
       "<div>\n",
       "<style scoped>\n",
       "    .dataframe tbody tr th:only-of-type {\n",
       "        vertical-align: middle;\n",
       "    }\n",
       "\n",
       "    .dataframe tbody tr th {\n",
       "        vertical-align: top;\n",
       "    }\n",
       "\n",
       "    .dataframe thead th {\n",
       "        text-align: right;\n",
       "    }\n",
       "</style>\n",
       "<table border=\"1\" class=\"dataframe\">\n",
       "  <thead>\n",
       "    <tr style=\"text-align: right;\">\n",
       "      <th></th>\n",
       "      <th>0</th>\n",
       "      <th>1</th>\n",
       "      <th>2</th>\n",
       "      <th>3</th>\n",
       "      <th>4</th>\n",
       "      <th>5</th>\n",
       "      <th>6</th>\n",
       "      <th>7</th>\n",
       "      <th>8</th>\n",
       "      <th>9</th>\n",
       "      <th>...</th>\n",
       "      <th>90</th>\n",
       "      <th>91</th>\n",
       "      <th>92</th>\n",
       "      <th>93</th>\n",
       "      <th>94</th>\n",
       "      <th>95</th>\n",
       "      <th>96</th>\n",
       "      <th>97</th>\n",
       "      <th>98</th>\n",
       "      <th>99</th>\n",
       "    </tr>\n",
       "  </thead>\n",
       "  <tbody>\n",
       "    <tr>\n",
       "      <td>0</td>\n",
       "      <td>1.000000</td>\n",
       "      <td>1.000000</td>\n",
       "      <td>1.000000</td>\n",
       "      <td>1.000000</td>\n",
       "      <td>1.000000</td>\n",
       "      <td>1.000000</td>\n",
       "      <td>1.000000</td>\n",
       "      <td>1.000000</td>\n",
       "      <td>1.000000</td>\n",
       "      <td>1.000000</td>\n",
       "      <td>...</td>\n",
       "      <td>1.000000</td>\n",
       "      <td>1.000000</td>\n",
       "      <td>1.000000</td>\n",
       "      <td>1.000000</td>\n",
       "      <td>1.000000</td>\n",
       "      <td>1.000000</td>\n",
       "      <td>1.000000</td>\n",
       "      <td>1.000000</td>\n",
       "      <td>1.000000</td>\n",
       "      <td>1.000000</td>\n",
       "    </tr>\n",
       "    <tr>\n",
       "      <td>1</td>\n",
       "      <td>0.998644</td>\n",
       "      <td>1.000157</td>\n",
       "      <td>1.000568</td>\n",
       "      <td>1.002249</td>\n",
       "      <td>0.996981</td>\n",
       "      <td>0.996605</td>\n",
       "      <td>1.004418</td>\n",
       "      <td>0.999439</td>\n",
       "      <td>0.997145</td>\n",
       "      <td>0.993905</td>\n",
       "      <td>...</td>\n",
       "      <td>0.999112</td>\n",
       "      <td>1.005394</td>\n",
       "      <td>1.002395</td>\n",
       "      <td>1.004845</td>\n",
       "      <td>0.998137</td>\n",
       "      <td>0.989114</td>\n",
       "      <td>1.002920</td>\n",
       "      <td>0.998906</td>\n",
       "      <td>0.994310</td>\n",
       "      <td>0.994626</td>\n",
       "    </tr>\n",
       "    <tr>\n",
       "      <td>2</td>\n",
       "      <td>0.997982</td>\n",
       "      <td>0.991759</td>\n",
       "      <td>1.004344</td>\n",
       "      <td>1.008381</td>\n",
       "      <td>0.998677</td>\n",
       "      <td>0.994728</td>\n",
       "      <td>1.001760</td>\n",
       "      <td>1.002987</td>\n",
       "      <td>0.997271</td>\n",
       "      <td>0.990034</td>\n",
       "      <td>...</td>\n",
       "      <td>0.999781</td>\n",
       "      <td>1.006267</td>\n",
       "      <td>0.994560</td>\n",
       "      <td>0.998724</td>\n",
       "      <td>0.993945</td>\n",
       "      <td>0.981617</td>\n",
       "      <td>1.008736</td>\n",
       "      <td>0.990612</td>\n",
       "      <td>1.000622</td>\n",
       "      <td>0.989227</td>\n",
       "    </tr>\n",
       "    <tr>\n",
       "      <td>3</td>\n",
       "      <td>0.995263</td>\n",
       "      <td>0.987033</td>\n",
       "      <td>0.999483</td>\n",
       "      <td>1.008822</td>\n",
       "      <td>0.999273</td>\n",
       "      <td>0.989047</td>\n",
       "      <td>1.009060</td>\n",
       "      <td>1.006694</td>\n",
       "      <td>1.005336</td>\n",
       "      <td>0.994945</td>\n",
       "      <td>...</td>\n",
       "      <td>1.006380</td>\n",
       "      <td>0.999680</td>\n",
       "      <td>0.996826</td>\n",
       "      <td>1.000176</td>\n",
       "      <td>0.990386</td>\n",
       "      <td>0.977416</td>\n",
       "      <td>1.004707</td>\n",
       "      <td>0.990694</td>\n",
       "      <td>1.002435</td>\n",
       "      <td>0.989895</td>\n",
       "    </tr>\n",
       "    <tr>\n",
       "      <td>4</td>\n",
       "      <td>0.999613</td>\n",
       "      <td>0.986986</td>\n",
       "      <td>0.993550</td>\n",
       "      <td>1.006751</td>\n",
       "      <td>1.003768</td>\n",
       "      <td>0.984426</td>\n",
       "      <td>1.009288</td>\n",
       "      <td>1.005344</td>\n",
       "      <td>1.010047</td>\n",
       "      <td>0.992785</td>\n",
       "      <td>...</td>\n",
       "      <td>1.002463</td>\n",
       "      <td>1.002288</td>\n",
       "      <td>0.998150</td>\n",
       "      <td>1.002751</td>\n",
       "      <td>0.991830</td>\n",
       "      <td>0.969290</td>\n",
       "      <td>1.005117</td>\n",
       "      <td>0.989257</td>\n",
       "      <td>1.000618</td>\n",
       "      <td>0.992997</td>\n",
       "    </tr>\n",
       "  </tbody>\n",
       "</table>\n",
       "<p>5 rows × 100 columns</p>\n",
       "</div>"
      ],
      "text/plain": [
       "         0         1         2         3         4         5         6   \\\n",
       "0  1.000000  1.000000  1.000000  1.000000  1.000000  1.000000  1.000000   \n",
       "1  0.998644  1.000157  1.000568  1.002249  0.996981  0.996605  1.004418   \n",
       "2  0.997982  0.991759  1.004344  1.008381  0.998677  0.994728  1.001760   \n",
       "3  0.995263  0.987033  0.999483  1.008822  0.999273  0.989047  1.009060   \n",
       "4  0.999613  0.986986  0.993550  1.006751  1.003768  0.984426  1.009288   \n",
       "\n",
       "         7         8         9   ...        90        91        92        93  \\\n",
       "0  1.000000  1.000000  1.000000  ...  1.000000  1.000000  1.000000  1.000000   \n",
       "1  0.999439  0.997145  0.993905  ...  0.999112  1.005394  1.002395  1.004845   \n",
       "2  1.002987  0.997271  0.990034  ...  0.999781  1.006267  0.994560  0.998724   \n",
       "3  1.006694  1.005336  0.994945  ...  1.006380  0.999680  0.996826  1.000176   \n",
       "4  1.005344  1.010047  0.992785  ...  1.002463  1.002288  0.998150  1.002751   \n",
       "\n",
       "         94        95        96        97        98        99  \n",
       "0  1.000000  1.000000  1.000000  1.000000  1.000000  1.000000  \n",
       "1  0.998137  0.989114  1.002920  0.998906  0.994310  0.994626  \n",
       "2  0.993945  0.981617  1.008736  0.990612  1.000622  0.989227  \n",
       "3  0.990386  0.977416  1.004707  0.990694  1.002435  0.989895  \n",
       "4  0.991830  0.969290  1.005117  0.989257  1.000618  0.992997  \n",
       "\n",
       "[5 rows x 100 columns]"
      ]
     },
     "execution_count": 71,
     "metadata": {},
     "output_type": "execute_result"
    }
   ],
   "source": [
    "# Run the Monte Carlo Simulation\n",
    "for n in range(number_simulations):\n",
    "    \n",
    "    simulated_SPY_prices = [close_price_SPY]\n",
    "    simulated_AGG_prices = [close_price_AGG]\n",
    "    \n",
    "    # Simulate the returns for 252 days\n",
    "    for i in range(number_records):\n",
    "        \n",
    "        # Calculate the simulated price using the last price within the list\n",
    "        simulated_SPY_price = simulated_SPY_prices[-1] * (1 + np.random.normal(average_daily_return_SPY, daily_std_SPY))\n",
    "        simulated_AGG_price = simulated_AGG_prices[-1] * (1 + np.random.normal(average_daily_return_AGG, daily_std_AGG))\n",
    "        \n",
    "        # Append the simulated price to the list\n",
    "        simulated_SPY_prices.append(simulated_SPY_price)\n",
    "        simulated_AGG_prices.append(simulated_AGG_price)\n",
    "    \n",
    "    # Append a simulated prices of each simulation to DataFrame\n",
    "    simulated_price_df[\"SPY prices\"] = pd.Series(simulated_SPY_prices)\n",
    "    simulated_price_df[\"AGG prices\"] = pd.Series(simulated_AGG_prices)\n",
    "    \n",
    "    # Calculate the daily returns of simulated prices\n",
    "    simulated_daily_returns = simulated_price_df.pct_change()\n",
    "    \n",
    "    # Set the portfolio weights (60% JNJ; 40% MU)\n",
    "    weights = [0.60, 0.40]\n",
    "\n",
    "    # Use the `dot` function with the weights to multiply weights with each column's simulated daily returns\n",
    "    portfolio_daily_returns = simulated_daily_returns.dot(weights)\n",
    "    \n",
    "    # Calculate the normalized, cumulative return series\n",
    "    portfolio_cumulative_returns[n] = (1 + portfolio_daily_returns.fillna(0)).cumprod()\n",
    "\n",
    "# Print records from the DataFrame\n",
    "portfolio_cumulative_returns.head()"
   ]
  },
  {
   "cell_type": "code",
   "execution_count": 73,
   "metadata": {},
   "outputs": [
    {
     "data": {
      "text/plain": [
       "<matplotlib.axes._subplots.AxesSubplot at 0x1b36cd10c48>"
      ]
     },
     "execution_count": 73,
     "metadata": {},
     "output_type": "execute_result"
    },
    {
     "data": {
      "image/png": "[encoded data removed]",
      "text/plain": [
       "<Figure size 432x288 with 1 Axes>"
      ]
     },
     "metadata": {
      "needs_background": "light"
     },
     "output_type": "display_data"
    }
   ],
   "source": [
    "# Visualize the Simulation\n",
    "portfolio_cumulative_returns.plot(legend=None)\n",
    "# YOUR CODE HERE"
   ]
  },
  {
   "cell_type": "code",
   "execution_count": 75,
   "metadata": {},
   "outputs": [
    {
     "data": {
      "text/plain": [
       "0     77.982577\n",
       "1    140.201006\n",
       "2     67.593331\n",
       "3    108.316812\n",
       "4    114.916455\n",
       "Name: 7560, dtype: float64"
      ]
     },
     "execution_count": 75,
     "metadata": {},
     "output_type": "execute_result"
    }
   ],
   "source": [
    "# Select the last row for the cumulative returns (cumulative returns at 30 years)\n",
    "ending_cumulative_returns_30years = portfolio_cumulative_returns.iloc[-1, :]\n",
    "ending_cumulative_returns_30years.head()\n",
    "# YOUR CODE HERE"
   ]
  },
  {
   "cell_type": "code",
   "execution_count": 76,
   "metadata": {},
   "outputs": [
    {
     "data": {
      "text/plain": [
       "0    17.159527\n",
       "1    20.925771\n",
       "2    18.344574\n",
       "3    17.990504\n",
       "4    29.451325\n",
       "Name: 5040, dtype: float64"
      ]
     },
     "execution_count": 76,
     "metadata": {},
     "output_type": "execute_result"
    }
   ],
   "source": [
    "# Select the last row for the cumulative returns (cumulative returns at 20 years)\n",
    "ending_cumulative_returns_20years = portfolio_cumulative_returns.iloc[-2521, :]\n",
    "ending_cumulative_returns_20years.head()\n",
    "# YOUR CODE HERE"
   ]
  },
  {
   "cell_type": "code",
   "execution_count": 77,
   "metadata": {},
   "outputs": [
    {
     "data": {
      "text/plain": [
       "0.05     73.038977\n",
       "0.95    212.970499\n",
       "Name: 7560, dtype: float64"
      ]
     },
     "execution_count": 77,
     "metadata": {},
     "output_type": "execute_result"
    }
   ],
   "source": [
    "# Display the 90% confidence interval for the ending returns\n",
    "confidence_interval_30years = ending_cumulative_returns_30years.quantile(q=[0.05, 0.95])\n",
    "confidence_interval_30years\n",
    "# YOUR CODE HERE"
   ]
  },
  {
   "cell_type": "code",
   "execution_count": 79,
   "metadata": {},
   "outputs": [
    {
     "data": {
      "text/plain": [
       "<matplotlib.axes._subplots.AxesSubplot at 0x1b377d0ba88>"
      ]
     },
     "execution_count": 79,
     "metadata": {},
     "output_type": "execute_result"
    },
    {
     "data": {
      "image/png": "[encoded data removed]",
      "text/plain": [
       "<Figure size 432x288 with 1 Axes>"
      ]
     },
     "metadata": {
      "needs_background": "light"
     },
     "output_type": "display_data"
    }
   ],
   "source": [
    "# Visualize the distribution of the ending returns\n",
    "ending_cumulative_returns_30years.plot(kind='hist')\n",
    "# YOUR CODE HERE"
   ]
  },
  {
   "cell_type": "markdown",
   "metadata": {},
   "source": [
    "---"
   ]
  },
  {
   "cell_type": "markdown",
   "metadata": {},
   "source": [
    "# Retirement Analysis\n",
    "\n",
    "In this section, you will use the monte carlo model to answer the following retirement planning questions:\n",
    "\n",
    "1. What are the expected cumulative returns at 30 years for the 10th, 50th, and 90th percentiles?\n",
    "2. Given an initial investment of `$20,000`, what is the expected portfolio return in dollars at the 10th, 50th, and 90th percentiles?\n",
    "3. Given the current projected annual income from the Plaid analysis, will a 4% withdraw rate from the retirement portfolio meet or exceed that value at the 10th percentile?\n",
    "4. How would a 50% increase in the initial investment amount affect the 4% retirement withdrawal?"
   ]
  },
  {
   "cell_type": "markdown",
   "metadata": {},
   "source": [
    "### What are the expected cumulative returns at 30 years for the 10th, 50th, and 90th percentiles?"
   ]
  },
  {
   "cell_type": "code",
   "execution_count": 82,
   "metadata": {},
   "outputs": [
    {
     "name": "stdout",
     "output_type": "stream",
     "text": [
      "0.1    79.521705\n",
      "Name: 7560, dtype: float64\n",
      "0.5    122.436407\n",
      "Name: 7560, dtype: float64\n",
      "0.9    203.727214\n",
      "Name: 7560, dtype: float64\n"
     ]
    }
   ],
   "source": [
    "# YOUR CODE HERE\n",
    "percentiles_10th = ending_cumulative_returns_30years.quantile(q=[0.1])\n",
    "percentiles_50th = ending_cumulative_returns_30years.quantile(q=[0.5])\n",
    "percentiles_90th = ending_cumulative_returns_30years.quantile(q=[0.9])\n",
    "\n",
    "print(percentiles_10th)\n",
    "print(percentiles_50th)\n",
    "print(percentiles_90th)"
   ]
  },
  {
   "cell_type": "markdown",
   "metadata": {},
   "source": [
    "### Given an initial investment of `$20,000`, what is the expected portfolio return in dollars at the 10th, 50th, and 90th percentiles?"
   ]
  },
  {
   "cell_type": "code",
   "execution_count": 87,
   "metadata": {},
   "outputs": [
    {
     "name": "stdout",
     "output_type": "stream",
     "text": [
      "1580000\n",
      "2440000\n",
      "4060000\n"
     ]
    }
   ],
   "source": [
    "# YOUR CODE HERE\n",
    "return_at_10th_percentiles = 20000* int(percentiles_10th)\n",
    "return_at_50th_percentiles = 20000* int(percentiles_50th)\n",
    "return_at_90th_percentiles = 20000* int(percentiles_90th)\n",
    "print(return_at_10th_percentiles)\n",
    "print(return_at_50th_percentiles)\n",
    "print(return_at_90th_percentiles)"
   ]
  },
  {
   "cell_type": "markdown",
   "metadata": {},
   "source": [
    "### Given the current projected annual income from the Plaid analysis, will a 4% withdraw rate from the retirement portfolio meet or exceed that value at the 10th percentile?\n",
    "\n",
    "Note: This is effectively saying that 90% of the expected returns will be greater than the return at the 10th percentile, so this can help measure the uncertainty about having enough funds at retirement"
   ]
  },
  {
   "cell_type": "code",
   "execution_count": 89,
   "metadata": {},
   "outputs": [
    {
     "data": {
      "text/plain": [
       "63200.0"
      ]
     },
     "execution_count": 89,
     "metadata": {},
     "output_type": "execute_result"
    }
   ],
   "source": [
    "# YOUR CODE HERE\n",
    "withdraw_4pct = return_at_10th_percentiles*0.04\n",
    "withdraw_4pct"
   ]
  },
  {
   "cell_type": "markdown",
   "metadata": {},
   "source": [
    "### How would a 50% increase in the initial investment amount affect the 4% retirement withdrawal?"
   ]
  },
  {
   "cell_type": "code",
   "execution_count": 91,
   "metadata": {},
   "outputs": [
    {
     "data": {
      "text/plain": [
       "94800.0"
      ]
     },
     "execution_count": 91,
     "metadata": {},
     "output_type": "execute_result"
    }
   ],
   "source": [
    "# YOUR CODE HERE\n",
    "withdraw_4pct_30000 = 30000* int(percentiles_10th)*0.04\n",
    "withdraw_4pct_30000"
   ]
  },
  {
   "cell_type": "markdown",
   "metadata": {},
   "source": [
    "### Optional Challenge\n",
    "\n",
    "In this section, you will calculate and plot the cumulative returns for the median and 90% confidence intervals. This plot shows the expected cumulative returns for any given day between the first day and the last day of investment. "
   ]
  },
  {
   "cell_type": "code",
   "execution_count": null,
   "metadata": {},
   "outputs": [],
   "source": [
    "# YOUR CODE HERE"
   ]
  }
 ],
 "metadata": {
  "kernel_info": {
   "name": "dev"
  },
  "kernelspec": {
   "display_name": "Python 3",
   "language": "python",
   "name": "python3"
  },
  "language_info": {
   "codemirror_mode": {
    "name": "ipython",
    "version": 3
   },
   "file_extension": ".py",
   "mimetype": "text/x-python",
   "name": "python",
   "nbconvert_exporter": "python",
   "pygments_lexer": "ipython3",
   "version": "3.7.4"
  },
  "nteract": {
   "version": "0.12.3"
  }
 },
 "nbformat": 4,
 "nbformat_minor": 4
}
